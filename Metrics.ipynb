{
  "nbformat": 4,
  "nbformat_minor": 0,
  "metadata": {
    "colab": {
      "provenance": []
    },
    "kernelspec": {
      "name": "python3",
      "display_name": "Python 3"
    },
    "language_info": {
      "name": "python"
    }
  },
  "cells": [
    {
      "cell_type": "code",
      "execution_count": 1,
      "metadata": {
        "id": "i7a3MQUSGfRQ"
      },
      "outputs": [],
      "source": [
        "import numpy as np\n",
        "from numpy import load\n",
        "from tqdm import tqdm\n",
        "from sklearn.metrics import ndcg_score"
      ]
    },
    {
      "cell_type": "markdown",
      "source": [
        "MeanAveragePrecision@K"
      ],
      "metadata": {
        "id": "S-0GNC9PGs9n"
      }
    },
    {
      "cell_type": "code",
      "source": [
        "def user_average_precision(user_relevances, k=20):\n",
        "  if user_relevances[:k].sum() == 0:\n",
        "    return 0\n",
        "  else:\n",
        "    # Считаем значение Average Precision@k для одного пользовтаеля.\n",
        "    average_precision_list = list()\n",
        "\n",
        "    for k_items in range(1, (k + 1)):\n",
        "      precision = user_relevances[:k_items].sum()\n",
        "      precision /= len(user_relevances[:k_items])\n",
        "      average_precision_list.append(precision)\n",
        "\n",
        "    average_precision_array = np.array(average_precision_list)\n",
        "    average_precision = average_precision_array * user_relevances[:k]\n",
        "    average_precision = average_precision.sum()\n",
        "    average_precision /= user_relevances[:k].sum()\n",
        "\n",
        "    return average_precision"
      ],
      "metadata": {
        "id": "Z3Co9X4JGxZM"
      },
      "execution_count": 17,
      "outputs": []
    },
    {
      "cell_type": "code",
      "source": [
        "def get_map(relevances, k=20):\n",
        "  mean_average_precision = 0\n",
        "  n = len(relevances)\n",
        "\n",
        "  for i in tqdm(range(n)):\n",
        "    average_precision = user_average_precision(relevances[i], k)\n",
        "    mean_average_precision += average_precision\n",
        "\n",
        "  return mean_average_precision / n"
      ],
      "metadata": {
        "id": "X2T1T6F0GzQg"
      },
      "execution_count": 18,
      "outputs": []
    },
    {
      "cell_type": "markdown",
      "source": [
        "MeanAverageRecall@K"
      ],
      "metadata": {
        "id": "BuD_6S0kG05r"
      }
    },
    {
      "cell_type": "code",
      "source": [
        "def eval_single(recommended_items_ids, relevant_items_ids, k=20):\n",
        "  recall_at_k = sum(\n",
        "      [\n",
        "          1\n",
        "          for rec_item in recommended_items_ids[:k]\n",
        "          if rec_item in relevant_items_ids\n",
        "      ]\n",
        "  ) / min(len(relevant_items_ids), k)\n",
        "\n",
        "  return recall_at_k"
      ],
      "metadata": {
        "id": "632MR3_gG4Gy"
      },
      "execution_count": 19,
      "outputs": []
    },
    {
      "cell_type": "code",
      "source": [
        "def user_average_recall(user_relevances_recommended, recommended_items_ids, relevant_items_ids, k=20):\n",
        "  if user_relevances_recommended[:k].sum() == 0:\n",
        "    return 0\n",
        "  else:\n",
        "    average_recall_list = list()\n",
        "\n",
        "    for k_items in range(1, (k + 1)):\n",
        "      recall_at_k = eval_single(recommended_items_ids, relevant_items_ids, k_items)\n",
        "      average_recall_list.append(recall_at_k)\n",
        "\n",
        "    average_recall_array = np.array(average_recall_list)\n",
        "    average_recall_array = average_recall_array * user_relevances_recommended[:k]\n",
        "    average_recall = average_recall_array.sum()\n",
        "    average_recall /= min(len(relevant_items_ids), k)\n",
        "\n",
        "    return average_recall"
      ],
      "metadata": {
        "id": "HLW1RMBHG7lb"
      },
      "execution_count": 20,
      "outputs": []
    },
    {
      "cell_type": "code",
      "source": [
        "def get_mar(relevances_recommended, recommended_items_ids, relevant_items_ids, k=20):\n",
        "  mean_average_recall = 0\n",
        "  n = len(relevances_recommended)\n",
        "\n",
        "  for i in tqdm(range(n)):\n",
        "    average_recall = user_average_recall(relevances_recommended[i], recommended_items_ids[i], relevant_items_ids[i], k)\n",
        "    mean_average_recall += average_recall\n",
        "\n",
        "  return mean_average_recall / n"
      ],
      "metadata": {
        "id": "pDIC8HHxG_He"
      },
      "execution_count": 21,
      "outputs": []
    },
    {
      "cell_type": "markdown",
      "source": [
        "nDCG@K"
      ],
      "metadata": {
        "id": "6qYlt2hRHAst"
      }
    },
    {
      "cell_type": "code",
      "source": [
        "def get_ndcg(ranks_array, relevances_array, is_higher_better=False, k=20):\n",
        "  n = len(ranks_array)\n",
        "  ndcg = 0\n",
        "\n",
        "  # Если на вход подаются скоры, а не ранги, то необходимо указать параметр is_higher_better = True.\n",
        "  if is_higher_better == False:\n",
        "    for i in tqdm(range(n)):\n",
        "      rank = k - ranks_array[i]\n",
        "      ndcg += ndcg_score([relevances_array[i]], [rank], k=20)\n",
        "    return ndcg / n\n",
        "\n",
        "  elif is_higher_better == True:\n",
        "    for i in tqdm(range(n)):\n",
        "      ndcg += ndcg_score([relevances_array[i]], [ranks_array[i]], k=20)\n",
        "    return ndcg / n"
      ],
      "metadata": {
        "id": "qamV916dHFNk"
      },
      "execution_count": 22,
      "outputs": []
    },
    {
      "cell_type": "markdown",
      "source": [
        "3 в 1"
      ],
      "metadata": {
        "id": "CrUVmZlsHF2v"
      }
    },
    {
      "cell_type": "code",
      "source": [
        "def get_metrics(ranks, relevances, recommended_items_ids, relevant_items_ids, is_higher_better=False, k=20):\n",
        "  metrics = dict()\n",
        "\n",
        "  key = \"MAP@\" + str(k)\n",
        "  metrics[key] = get_map(relevances, k)\n",
        "\n",
        "  key = \"MAR@\" + str(k)\n",
        "  metrics[key] = get_mar(relevances, recommended_items_ids, relevant_items_ids, k)\n",
        "\n",
        "  key = \"NDCG@\" + str(k)\n",
        "  metrics[key] = get_ndcg(ranks, relevances, is_higher_better, k)\n",
        "\n",
        "  return metrics"
      ],
      "metadata": {
        "id": "ZMQhJH_aHJVr"
      },
      "execution_count": 23,
      "outputs": []
    },
    {
      "cell_type": "markdown",
      "source": [
        "Векторы хранятся в формате numpy.array. Они уже отсортированы по убыванию скоров (по preds_array), т.е. первым идёт товар с наибольшим скором, последним - с наименьшим."
      ],
      "metadata": {
        "id": "lOxzPEysHMZX"
      }
    },
    {
      "cell_type": "code",
      "source": [
        "preds_array = load(\"/content/drive/MyDrive/WB School/L4/preds_array_sample.npy\", allow_pickle=True)\n",
        "recommended_items_ids_array = load(\"/content/drive/MyDrive/WB School/L4/recommended_items_ids_array_sample.npy\", allow_pickle=True)\n",
        "relevances_array = load(\"/content/drive/MyDrive/WB School/L4/relevances_array_sample.npy\", allow_pickle=True)\n",
        "relevant_items_ids_array = load(\"/content/drive/MyDrive/WB School/L4/relevant_items_ids_array_sample.npy\", allow_pickle=True)"
      ],
      "metadata": {
        "id": "CjGy9QkMI8-t"
      },
      "execution_count": 3,
      "outputs": []
    },
    {
      "cell_type": "code",
      "source": [
        "def lists_to_arrays(ranks, relevances, recommended_items_ids, relevant_items_ids):\n",
        "  ranks_array = list()\n",
        "  relevances_array = list()\n",
        "  recommended_items_ids_array = list()\n",
        "  relevant_items_ids_array = list()\n",
        "\n",
        "  for i in tqdm(range(len(ranks))):\n",
        "    rank = np.array(ranks[i]).astype(float)\n",
        "    ranks_array.append(rank)\n",
        "\n",
        "    rel = np.array(relevances[i]).astype(int)\n",
        "    relevances_array.append(rel)\n",
        "\n",
        "    rec_items = np.array(recommended_items_ids[i]).astype(int)\n",
        "    recommended_items_ids_array.append(rec_items)\n",
        "\n",
        "    rel_items = np.array(relevant_items_ids[i]).astype(int)\n",
        "    relevant_items_ids_array.append(rel_items)\n",
        "\n",
        "  ranks_array = np.array(ranks_array)\n",
        "  relevances_array = np.array(relevances_array)\n",
        "  recommended_items_ids_array = np.array(recommended_items_ids_array)\n",
        "  relevant_items_ids_array = np.array(relevant_items_ids_array)\n",
        "\n",
        "  return ranks_array, relevances_array, recommended_items_ids_array, relevant_items_ids_array"
      ],
      "metadata": {
        "id": "byZf6qz3UAeO"
      },
      "execution_count": 10,
      "outputs": []
    },
    {
      "cell_type": "code",
      "source": [
        "preds_array, relevances_array, recommended_items_ids_array, relevant_items_ids_array = lists_to_arrays(\n",
        "    preds_array,\n",
        "    relevances_array,\n",
        "    recommended_items_ids_array,\n",
        "    relevant_items_ids_array\n",
        ")"
      ],
      "metadata": {
        "colab": {
          "base_uri": "https://localhost:8080/"
        },
        "id": "44WF-GInUBd9",
        "outputId": "8721798e-3d7a-4d8e-915d-10fc30c1c692"
      },
      "execution_count": 11,
      "outputs": [
        {
          "output_type": "stream",
          "name": "stderr",
          "text": [
            "100%|██████████| 20/20 [00:00<00:00, 54330.36it/s]\n",
            "<ipython-input-10-7caced98b2e2>:23: VisibleDeprecationWarning: Creating an ndarray from ragged nested sequences (which is a list-or-tuple of lists-or-tuples-or ndarrays with different lengths or shapes) is deprecated. If you meant to do this, you must specify 'dtype=object' when creating the ndarray.\n",
            "  relevant_items_ids_array = np.array(relevant_items_ids_array)\n"
          ]
        }
      ]
    },
    {
      "cell_type": "code",
      "source": [
        "get_metrics(\n",
        "    preds_array,\n",
        "    relevances_array,\n",
        "    recommended_items_ids_array,\n",
        "    relevant_items_ids_array,\n",
        "    is_higher_better=True,\n",
        "    k=20\n",
        ")"
      ],
      "metadata": {
        "colab": {
          "base_uri": "https://localhost:8080/"
        },
        "id": "efdu1pEqHRpo",
        "outputId": "3852c1a5-a25e-4515-9a67-4dbe360af3ca"
      },
      "execution_count": 24,
      "outputs": [
        {
          "output_type": "stream",
          "name": "stderr",
          "text": [
            "100%|██████████| 20/20 [00:00<00:00, 6476.69it/s]\n",
            "100%|██████████| 20/20 [00:00<00:00, 1077.74it/s]\n",
            "100%|██████████| 20/20 [00:00<00:00, 1547.09it/s]\n"
          ]
        },
        {
          "output_type": "execute_result",
          "data": {
            "text/plain": [
              "{'MAP@20': 0.36836213680253926,\n",
              " 'MAR@20': 0.02665192743764172,\n",
              " 'NDCG@20': 0.5673287941612568}"
            ]
          },
          "metadata": {},
          "execution_count": 24
        }
      ]
    },
    {
      "cell_type": "markdown",
      "source": [
        "id пользователей, которые попали в выборку:"
      ],
      "metadata": {
        "id": "KM26tZ-SVrMo"
      }
    },
    {
      "cell_type": "code",
      "source": [
        "users_ids = [3, 25, 35, 68, 89, 90, 97, 130, 133, 135, 136, 139, 142, 143, 146, 148, 149, 155, 164, 171]"
      ],
      "metadata": {
        "id": "2NWfgy4eVwv6"
      },
      "execution_count": null,
      "outputs": []
    }
  ]
}